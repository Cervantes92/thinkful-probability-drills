{
 "cells": [
  {
   "cell_type": "markdown",
   "metadata": {},
   "source": [
    "<h1>Thinkful Probability Drills</h1>\n",
    "<h2>Question 1:</h2>\n",
    "<p>Calculate the probability of flipping a balanced coin four times and getting each pattern: HTTH, HHHH and TTHH.</p>\n",
    "<h3>Answer:</h3>\n",
    "<p>The probability of flipping any sequence of heads or tails is the product of the probability of each individual flip. For flipping a balanced coin four times in a row, the probability is as follows:</p>"
   ]
  },
  {
   "cell_type": "code",
   "execution_count": 1,
   "metadata": {
    "collapsed": false
   },
   "outputs": [
    {
     "name": "stdout",
     "output_type": "stream",
     "text": [
      "0.0625\n"
     ]
    }
   ],
   "source": [
    "p = 0.5 * 0.5 * 0.5 * 0.5\n",
    "print(p)"
   ]
  },
  {
   "cell_type": "markdown",
   "metadata": {},
   "source": [
    "<h2>Question 2:</h2>\n",
    "<p>If a list of people has 24 women and 21 men, then the probability of choosing a man from the list is 21/45. What is the probability of not choosing a man?</p>\n",
    "<h3>Answer:</h3>\n",
    "<p>There are two possible outcomes when choosing from this list. Since the probability of choosing either male or female is 1, the probability of choosing the other is given by:</p>"
   ]
  },
  {
   "cell_type": "code",
   "execution_count": 2,
   "metadata": {
    "collapsed": false
   },
   "outputs": [
    {
     "name": "stdout",
     "output_type": "stream",
     "text": [
      "0.5333333333333333\n"
     ]
    }
   ],
   "source": [
    "p = 1 - 21 / 45\n",
    "print(p)"
   ]
  },
  {
   "cell_type": "markdown",
   "metadata": {},
   "source": [
    "<h2>Question 3:</h2>\n",
    "<p>The probability that Bernice will travel by plane sometime in the next year is 10%. The probability of a plane crash at any time is .005%. What is the probability that Bernice will be in a plane crash sometime in the next year?</p>\n",
    "<h3>Answer:</h3>\n",
    "<p>For this we will assume that Bernice will either travel by plane once or not in the next year. The probability p(flight and crash) is the product of the probability of either event happening as follows:</p>"
   ]
  },
  {
   "cell_type": "code",
   "execution_count": 3,
   "metadata": {
    "collapsed": false
   },
   "outputs": [
    {
     "name": "stdout",
     "output_type": "stream",
     "text": [
      "5e-06\n"
     ]
    }
   ],
   "source": [
    "p = 0.1 * 0.005 / 100\n",
    "print(p)"
   ]
  },
  {
   "cell_type": "markdown",
   "metadata": {},
   "source": [
    "<h2>Question 4:</h2>\n",
    "<p>A data scientist wants to study the behavior of users on the company website. Each time a user clicks on a link on the website, there is a 5% chance that the user will be asked to complete a short survey about their behavior on the website. The data scientist uses the survey data to conclude that, on average, users spend 15 minutes surfing the company website before moving on to other things. What is wrong with this conclusion?</p>\n",
    "<h3>Answer:</h3>\n",
    "<p>The survey only polls users who go to the website to click on links and who are patient enough to answer surveys and assumes the survey participants are accurate and honest in reporting the amount of time they spend on the website.</p>"
   ]
  }
 ],
 "metadata": {
  "kernelspec": {
   "display_name": "Python 3",
   "language": "python",
   "name": "python3"
  },
  "language_info": {
   "codemirror_mode": {
    "name": "ipython",
    "version": 3
   },
   "file_extension": ".py",
   "mimetype": "text/x-python",
   "name": "python",
   "nbconvert_exporter": "python",
   "pygments_lexer": "ipython3",
   "version": "3.6.0"
  }
 },
 "nbformat": 4,
 "nbformat_minor": 2
}
